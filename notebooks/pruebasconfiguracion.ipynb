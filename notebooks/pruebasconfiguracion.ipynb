{
 "cells": [
  {
   "cell_type": "code",
   "execution_count": 2,
   "metadata": {},
   "outputs": [
    {
     "name": "stdout",
     "output_type": "stream",
     "text": [
      "Spark version: 3.5.4\n"
     ]
    }
   ],
   "source": [
    "# %%\n",
    "import pyspark\n",
    "print(\"Spark version:\", pyspark.__version__)"
   ]
  },
  {
   "cell_type": "code",
   "execution_count": 1,
   "metadata": {},
   "outputs": [
    {
     "name": "stdout",
     "output_type": "stream",
     "text": [
      "Python version: 3.10.11 (tags/v3.10.11:7d4cc5a, Apr  5 2023, 00:38:17) [MSC v.1929 64 bit (AMD64)]\n"
     ]
    }
   ],
   "source": [
    "# %%\n",
    "import sys\n",
    "print(\"Python version:\", sys.version)"
   ]
  },
  {
   "cell_type": "code",
   "execution_count": 3,
   "metadata": {},
   "outputs": [
    {
     "name": "stdout",
     "output_type": "stream",
     "text": [
      "Hadoop version: 3.3.4\n"
     ]
    }
   ],
   "source": [
    "# %%\n",
    "from pyspark.sql import SparkSession\n",
    "\n",
    "# Crear una sesión de Spark\n",
    "spark = SparkSession.builder.appName(\"CheckHadoopVersion\").getOrCreate()\n",
    "\n",
    "# Obtener la versión de Hadoop\n",
    "hadoop_version = spark.sparkContext._jvm.org.apache.hadoop.util.VersionInfo.getVersion()\n",
    "print(\"Hadoop version:\", hadoop_version)\n",
    "\n",
    "# Detener la sesión de Spark\n",
    "spark.stop()"
   ]
  },
  {
   "cell_type": "code",
   "execution_count": 4,
   "metadata": {},
   "outputs": [
    {
     "name": "stdout",
     "output_type": "stream",
     "text": [
      "+-----+---+\n",
      "| Name|Age|\n",
      "+-----+---+\n",
      "|Alice| 34|\n",
      "|  Bob| 45|\n",
      "|Cathy| 29|\n",
      "+-----+---+\n",
      "\n",
      "Average Age: 36.0\n"
     ]
    }
   ],
   "source": [
    "# %%\n",
    "from pyspark.sql import SparkSession\n",
    "\n",
    "def validate_spark_functionality():\n",
    "    # Crear una sesión de Spark\n",
    "    spark = SparkSession.builder.appName(\"SimpleSparkValidation\").getOrCreate()\n",
    "    \n",
    "    # Crear un DataFrame simple\n",
    "    data = [(\"Alice\", 34), (\"Bob\", 45), (\"Cathy\", 29)]\n",
    "    columns = [\"Name\", \"Age\"]\n",
    "    df = spark.createDataFrame(data, columns)\n",
    "    \n",
    "    # Mostrar el DataFrame\n",
    "    df.show()\n",
    "    \n",
    "    # Realizar una operación simple: calcular la edad promedio\n",
    "    avg_age = df.groupBy().avg(\"Age\").collect()[0][0]\n",
    "    print(\"Average Age:\", avg_age)\n",
    "    \n",
    "    # Detener la sesión de Spark\n",
    "    spark.stop()\n",
    "\n",
    "# Llamar a la función para validar la funcionalidad de Spark\n",
    "validate_spark_functionality()"
   ]
  }
 ],
 "metadata": {
  "kernelspec": {
   "display_name": ".venv",
   "language": "python",
   "name": "python3"
  },
  "language_info": {
   "codemirror_mode": {
    "name": "ipython",
    "version": 3
   },
   "file_extension": ".py",
   "mimetype": "text/x-python",
   "name": "python",
   "nbconvert_exporter": "python",
   "pygments_lexer": "ipython3",
   "version": "3.10.11"
  }
 },
 "nbformat": 4,
 "nbformat_minor": 2
}
