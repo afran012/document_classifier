{
 "cells": [
  {
   "cell_type": "code",
   "execution_count": 2,
   "metadata": {},
   "outputs": [
    {
     "name": "stdout",
     "output_type": "stream",
     "text": [
      "Spark version: 3.5.4\n"
     ]
    }
   ],
   "source": [
    "# %%\n",
    "import pyspark\n",
    "print(\"Spark version:\", pyspark.__version__)"
   ]
  },
  {
   "cell_type": "code",
   "execution_count": 1,
   "metadata": {},
   "outputs": [
    {
     "name": "stdout",
     "output_type": "stream",
     "text": [
      "Python version: 3.10.11 (tags/v3.10.11:7d4cc5a, Apr  5 2023, 00:38:17) [MSC v.1929 64 bit (AMD64)]\n"
     ]
    }
   ],
   "source": [
    "# %%\n",
    "import sys\n",
    "print(\"Python version:\", sys.version)"
   ]
  },
  {
   "cell_type": "code",
   "execution_count": 3,
   "metadata": {},
   "outputs": [
    {
     "name": "stdout",
     "output_type": "stream",
     "text": [
      "Hadoop version: 3.3.4\n"
     ]
    }
   ],
   "source": [
    "# %%\n",
    "from pyspark.sql import SparkSession\n",
    "\n",
    "# Crear una sesión de Spark\n",
    "spark = SparkSession.builder.appName(\"CheckHadoopVersion\").getOrCreate()\n",
    "\n",
    "# Obtener la versión de Hadoop\n",
    "hadoop_version = spark.sparkContext._jvm.org.apache.hadoop.util.VersionInfo.getVersion()\n",
    "print(\"Hadoop version:\", hadoop_version)\n",
    "\n",
    "# Detener la sesión de Spark\n",
    "spark.stop()"
   ]
  },
  {
   "cell_type": "code",
   "execution_count": 4,
   "metadata": {},
   "outputs": [
    {
     "name": "stdout",
     "output_type": "stream",
     "text": [
      "+-----+---+\n",
      "| Name|Age|\n",
      "+-----+---+\n",
      "|Alice| 34|\n",
      "|  Bob| 45|\n",
      "|Cathy| 29|\n",
      "+-----+---+\n",
      "\n",
      "Average Age: 36.0\n"
     ]
    }
   ],
   "source": [
    "# %%\n",
    "from pyspark.sql import SparkSession\n",
    "\n",
    "def validate_spark_functionality():\n",
    "    # Crear una sesión de Spark\n",
    "    spark = SparkSession.builder.appName(\"SimpleSparkValidation\").getOrCreate()\n",
    "    \n",
    "    # Crear un DataFrame simple\n",
    "    data = [(\"Alice\", 34), (\"Bob\", 45), (\"Cathy\", 29)]\n",
    "    columns = [\"Name\", \"Age\"]\n",
    "    df = spark.createDataFrame(data, columns)\n",
    "    \n",
    "    # Mostrar el DataFrame\n",
    "    df.show()\n",
    "    \n",
    "    # Realizar una operación simple: calcular la edad promedio\n",
    "    avg_age = df.groupBy().avg(\"Age\").collect()[0][0]\n",
    "    print(\"Average Age:\", avg_age)\n",
    "    \n",
    "    # Detener la sesión de Spark\n",
    "    spark.stop()\n",
    "\n",
    "# Llamar a la función para validar la funcionalidad de Spark\n",
    "validate_spark_functionality()"
   ]
  },
  {
   "cell_type": "code",
   "execution_count": null,
   "metadata": {},
   "outputs": [],
   "source": [
    "import json\n",
    "import cv2\n",
    "import numpy as np\n",
    "from sklearn.model_selection import train_test_split\n",
    "\n",
    "# Cargar etiquetas\n",
    "with open(\"data/labels/labels.json\", \"r\") as f:\n",
    "    labels = json.load(f)\n",
    "\n",
    "# Preparar datos\n",
    "X = []  # imágenes\n",
    "y = []  # etiquetas\n",
    "\n",
    "for pdf_name, first_pages in labels.items():\n",
    "    pdf_dir = f\"data/processed/{pdf_name}\"\n",
    "    for page_num in range(len(os.listdir(pdf_dir))):\n",
    "        # Cargar imagen\n",
    "        img_path = f\"{pdf_dir}/page_{page_num}.png\"\n",
    "        img = cv2.imread(img_path, cv2.IMREAD_GRAYSCALE)\n",
    "        img = cv2.resize(img, (224, 224))\n",
    "        img = img / 255.0  # normalizar\n",
    "        \n",
    "        # Agregar etiqueta\n",
    "        label = 1 if page_num in first_pages else 0\n",
    "        \n",
    "        X.append(img)\n",
    "        y.append(label)\n",
    "\n",
    "X = np.array(X)\n",
    "y = np.array(y)\n",
    "\n",
    "# Dividir en entrenamiento y validación\n",
    "X_train, X_test, y_train, y_test = train_test_split(X, y, test_size=0.2)"
   ]
  },
  {
   "cell_type": "code",
   "execution_count": null,
   "metadata": {},
   "outputs": [],
   "source": [
    "from tensorflow.keras.models import Sequential\n",
    "from tensorflow.keras.layers import Conv2D, MaxPooling2D, Dense, Flatten, Dropout\n",
    "\n",
    "# Crear modelo\n",
    "model = Sequential([\n",
    "    Conv2D(32, (3, 3), activation='relu', input_shape=(224, 224, 1)),\n",
    "    MaxPooling2D((2, 2)),\n",
    "    Conv2D(64, (3, 3), activation='relu'),\n",
    "    MaxPooling2D((2, 2)),\n",
    "    Conv2D(64, (3, 3), activation='relu'),\n",
    "    Flatten(),\n",
    "    Dense(64, activation='relu'),\n",
    "    Dense(1, activation='sigmoid')\n",
    "])\n",
    "\n",
    "model.compile(optimizer='adam',\n",
    "              loss='binary_crossentropy',\n",
    "              metrics=['accuracy'])\n",
    "\n",
    "# Entrenar\n",
    "history = model.fit(X_train, y_train, \n",
    "                   epochs=10, \n",
    "                   validation_data=(X_test, y_test))\n",
    "\n",
    "# Guardar modelo\n",
    "model.save('data/models/page_classifier.h5')"
   ]
  },
  {
   "cell_type": "code",
   "execution_count": null,
   "metadata": {},
   "outputs": [],
   "source": [
    "def predict_first_pages(pdf_path):\n",
    "    # Convertir PDF a imágenes\n",
    "    pages = convert_from_path(pdf_path)\n",
    "    \n",
    "    predictions = []\n",
    "    for i, page in enumerate(pages):\n",
    "        # Preprocesar imagen\n",
    "        img = np.array(page)\n",
    "        img = cv2.cvtColor(img, cv2.COLOR_RGB2GRAY)\n",
    "        img = cv2.resize(img, (224, 224))\n",
    "        img = img / 255.0\n",
    "        img = np.expand_dims(img, axis=[0, -1])\n",
    "        \n",
    "        # Predecir\n",
    "        pred = model.predict(img)[0][0]\n",
    "        if pred > 0.5:\n",
    "            predictions.append(i)\n",
    "    \n",
    "    return predictions"
   ]
  }
 ],
 "metadata": {
  "kernelspec": {
   "display_name": ".venv",
   "language": "python",
   "name": "python3"
  },
  "language_info": {
   "codemirror_mode": {
    "name": "ipython",
    "version": 3
   },
   "file_extension": ".py",
   "mimetype": "text/x-python",
   "name": "python",
   "nbconvert_exporter": "python",
   "pygments_lexer": "ipython3",
   "version": "3.10.11"
  }
 },
 "nbformat": 4,
 "nbformat_minor": 2
}
