{
 "cells": [
  {
   "cell_type": "markdown",
   "metadata": {},
   "source": [
    "# Preparación de Datos con PySpark\n",
    "\n",
    "Este notebook realiza la preparación de datos usando PySpark para procesar documentos PDF."
   ]
  },
  {
   "cell_type": "code",
   "execution_count": null,
   "metadata": {},
   "outputs": [],
   "source": [
    "import os\n",
    "import sys\n",
    "from pyspark.sql import SparkSession\n",
    "from pyspark.sql.types import *\n",
    "from pyspark.sql.functions import udf, col\n",
    "import numpy as np\n",
    "from pdf2image import convert_from_path\n",
    "import cv2\n",
    "\n",
    "# Configurar Spark\n",
    "spark = SparkSession.builder \\\n",
    "    .appName(\"PDFPreprocessing\") \\\n",
    "    .config(\"spark.driver.memory\", \"4g\") \\\n",
    "    .config(\"spark.executor.memory\", \"4g\") \\\n",
    "    .getOrCreate()\n",
    "\n",
    "# Configurar directorios\n",
    "RAW_DIR = 'data/raw'\n",
    "PROCESSED_DIR = 'data/processed'\n",
    "os.makedirs(PROCESSED_DIR, exist_ok=True)"
   ]
  },
  {
   "cell_type": "code",
   "execution_count": null,
   "metadata": {},
   "outputs": [],
   "source": [
    "def preprocess_image(image, target_size=(224, 224)):\n",
    "    \"\"\"Preprocesa una imagen para el modelo\"\"\"\n",
    "    try:\n",
    "        # Convertir a escala de grises\n",
    "        if len(image.shape) == 3:\n",
    "            gray = cv2.cvtColor(image, cv2.COLOR_RGB2GRAY)\n",
    "        else:\n",
    "            gray = image\n",
    "            \n",
    "        # Redimensionar\n",
    "        resized = cv2.resize(gray, target_size)\n",
    "        \n",
    "        # Normalizar\n",
    "        normalized = resized.astype(np.float32) / 255.0\n",
    "        \n",
    "        return normalized\n",
    "    except Exception as e:\n",
    "        print(f\"Error preprocesando imagen: {str(e)}\")\n",
    "        return None"
   ]
  },
  {
   "cell_type": "code",
   "execution_count": null,
   "metadata": {},
   "outputs": [],
   "source": [
    "def process_pdf(pdf_path):\n",
    "    \"\"\"Procesa un PDF y retorna información de sus páginas\"\"\"\n",
    "    try:\n",
    "        # Convertir PDF a imágenes\n",
    "        pages = convert_from_path(pdf_path)\n",
    "        pdf_name = os.path.basename(pdf_path).replace('.pdf', '')\n",
    "        \n",
    "        # Crear directorio para este PDF\n",
    "        pdf_dir = os.path.join(PROCESSED_DIR, pdf_name)\n",
    "        os.makedirs(pdf_dir, exist_ok=True)\n",
    "        \n",
    "        # Procesar cada página\n",
    "        page_info = []\n",
    "        for i, page in enumerate(pages):\n",
    "            # Guardar imagen\n",
    "            page_path = os.path.join(pdf_dir, f'page_{i}.png')\n",
    "            page.save(page_path)\n",
    "            \n",
    "            # Convertir a array y preprocesar\n",
    "            img_array = np.array(page)\n",
    "            processed = preprocess_image(img_array)\n",
    "            \n",
    "            page_info.append({\n",
    "                'pdf_name': pdf_name,\n",
    "                'page_number': i,\n",
    "                'path': page_path,\n",
    "                'features': processed.flatten().tolist() if processed is not None else None\n",
    "            })\n",
    "            \n",
    "        return page_info\n",
    "    except Exception as e:\n",
    "        print(f\"Error procesando {pdf_path}: {str(e)}\")\n",
    "        return []"
   ]
  },
  {
   "cell_type": "code",
   "execution_count": null,
   "metadata": {},
   "outputs": [],
   "source": [
    "# Schema para el DataFrame\n",
    "schema = StructType([\n",
    "    StructField(\"pdf_name\", StringType(), False),\n",
    "    StructField(\"page_number\", IntegerType(), False),\n",
    "    StructField(\"path\", StringType(), False),\n",
    "    StructField(\"features\", ArrayType(FloatType()), True)\n",
    "])\n",
    "\n",
    "# Procesar PDFs y crear DataFrame\n",
    "pdf_files = [f for f in os.listdir(RAW_DIR) if f.endswith('.pdf')]\n",
    "all_pages = []\n",
    "\n",
    "for pdf in pdf_files:\n",
    "    pdf_path = os.path.join(RAW_DIR, pdf)\n",
    "    print(f\"Procesando {pdf}...\")\n",
    "    pages = process_pdf(pdf_path)\n",
    "    all_pages.extend(pages)\n",
    "\n",
    "# Crear DataFrame\n",
    "df = spark.createDataFrame(all_pages, schema)\n",
    "\n",
    "# Guardar DataFrame procesado\n",
    "df.write.mode(\"overwrite\").parquet(os.path.join(PROCESSED_DIR, \"processed_pages.parquet\"))"
   ]
  },
  {
   "cell_type": "code",
   "execution_count": null,
   "metadata": {},
   "outputs": [],
   "source": [
    "# Mostrar estadísticas del procesamiento\n",
    "print(f\"Total de PDFs procesados: {len(pdf_files)}\")\n",
    "print(f\"Total de páginas procesadas: {df.count()}\")\n",
    "print(\"\\nDistribución de páginas por PDF:\")\n",
    "df.groupBy(\"pdf_name\").count().show()\n",
    "\n",
    "# Verificar valores nulos o problemas\n",
    "print(\"\\nVerificación de calidad:\")\n",
    "df.summary().show()"
   ]
  }
 ],
 "metadata": {
  "kernelspec": {
   "display_name": "Python 3",
   "language": "python",
   "name": "python3"
  },
  "language_info": {
   "codemirror_mode": {
    "name": "ipython",
    "version": 3
   },
   "file_extension": ".py",
   "mimetype": "text/x-python",
   "name": "python",
   "nbconvert_exporter": "python",
   "pygments_lexer": "ipython3",
   "version": "3.8.0"
  }
 },
 "nbformat": 4,
 "nbformat_minor": 4
}