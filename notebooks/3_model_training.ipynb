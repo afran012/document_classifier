{
 "cells": [
  {
   "cell_type": "code",
   "execution_count": null,
   "metadata": {
    "vscode": {
     "languageId": "plaintext"
    }
   },
   "outputs": [],
   "source": [
    "# notebooks/3_model_training.ipynb\n",
    "\n",
    "def train_model():\n",
    "    # Cargar y preparar datos\n",
    "    train_ds = tf.keras.preprocessing.image_dataset_from_directory(\n",
    "        'data/training',\n",
    "        validation_split=0.2,\n",
    "        subset=\"training\",\n",
    "        seed=123,\n",
    "        image_size=(224, 224),\n",
    "        batch_size=32\n",
    "    )\n",
    "    \n",
    "    # Crear y compilar modelo\n",
    "    model = create_model()\n",
    "    model.compile(\n",
    "        optimizer='adam',\n",
    "        loss='binary_crossentropy',\n",
    "        metrics=['accuracy']\n",
    "    )\n",
    "    \n",
    "    # Entrenar\n",
    "    history = model.fit(\n",
    "        train_ds,\n",
    "        epochs=20,\n",
    "        validation_data=val_ds,\n",
    "        callbacks=[\n",
    "            tf.keras.callbacks.EarlyStopping(patience=3),\n",
    "            tf.keras.callbacks.ModelCheckpoint('best_model.h5')\n",
    "        ]\n",
    "    )"
   ]
  }
 ],
 "metadata": {
  "language_info": {
   "name": "python"
  }
 },
 "nbformat": 4,
 "nbformat_minor": 2
}
