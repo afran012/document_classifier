{
 "cells": [
  {
   "cell_type": "code",
   "execution_count": null,
   "metadata": {},
   "outputs": [],
   "source": [
    "# notebooks/1_data_exploration.ipynb\n",
    "\n",
    "import tensorflow as tf\n",
    "import pyspark\n",
    "from pyspark.sql import SparkSession\n",
    "import cv2\n",
    "\n",
    "# Configurar Spark\n",
    "spark = SparkSession.builder \\\n",
    "    .appName(\"DocumentClassifier\") \\\n",
    "    .config(\"spark.executor.memory\", \"4g\") \\\n",
    "    .getOrCreate()\n",
    "\n",
    "def create_training_dataset():\n",
    "    \"\"\"\n",
    "    Convert PDFs to images and organize training data\n",
    "    \"\"\"\n",
    "    # Usar Spark para procesamiento paralelo de PDFs\n",
    "    pdf_rdd = spark.sparkContext.wholeTextFiles(\"data/raw/*.pdf\")\n",
    "    \n",
    "    # Convertir y preprocesar imágenes\n",
    "    def process_pdf(pdf_file):\n",
    "        images = convert_pdf_to_images(pdf_file)\n",
    "        return [(img, detect_liquidacion_page(img)) for img in images]\n",
    "    \n",
    "    processed_images = pdf_rdd.flatMap(process_pdf)"
   ]
  }
 ],
 "metadata": {
  "language_info": {
   "name": "python"
  }
 },
 "nbformat": 4,
 "nbformat_minor": 2
}
