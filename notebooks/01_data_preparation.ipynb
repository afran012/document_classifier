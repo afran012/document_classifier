{
 "cells": [
  {
   "cell_type": "code",
   "execution_count": null,
   "metadata": {
    "vscode": {
     "languageId": "plaintext"
    }
   },
   "outputs": [],
   "source": [
    "{\n",
    " \"cells\": [\n",
    "  {\n",
    "   \"cell_type\": \"markdown\",\n",
    "   \"metadata\": {},\n",
    "   \"source\": [\n",
    "    \"# Preparación de Datos para Clasificador de Documentos\"\n",
    "   ]\n",
    "  },\n",
    "  {\n",
    "   \"cell_type\": \"code\",\n",
    "   \"execution_count\": null,\n",
    "   \"metadata\": {},\n",
    "   \"source\": [\n",
    "    \"import sys\\n\",\n",
    "    \"sys.path.append('..')\\n\",\n",
    "    \"\\n\",\n",
    "    \"from src.data.data_processor import DataProcessor\\n\",\n",
    "    \"from src.features.extractor import FeatureExtractor\\n\",\n",
    "    \"import os\\n\",\n",
    "    \"import numpy as np\"\n",
    "   ]\n",
    "  },\n",
    "  {\n",
    "   \"cell_type\": \"code\",\n",
    "   \"execution_count\": null,\n",
    "   \"metadata\": {},\n",
    "   \"source\": [\n",
    "    \"# Inicializar procesador\\n\",\n",
    "    \"processor = DataProcessor(\\n\",\n",
    "    \"    raw_dir='../data/raw',\\n\",\n",
    "    \"    processed_dir='../data/processed'\\n\",\n",
    "    \")\\n\",\n",
    "    \"\\n\",\n",
    "    \"# Procesar PDFs\\n\",\n",
    "    \"processed_images = processor.process_pdf_directory()\"\n",
    "   ]\n",
    "  }\n",
    " ]\n",
    "}"
   ]
  }
 ],
 "metadata": {
  "language_info": {
   "name": "python"
  }
 },
 "nbformat": 4,
 "nbformat_minor": 2
}
