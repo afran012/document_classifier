{
 "cells": [
  {
   "cell_type": "markdown",
   "metadata": {},
   "source": [
    "# Preparación de Datos para Clasificación de PDFs"
   ]
  },
  {
   "cell_type": "code",
   "execution_count": null,
   "metadata": {},
   "outputs": [],
   "source": [
    "import os\n",
    "from pdf2image import convert_from_path\n",
    "\n",
    "RAW_DIR = 'data/raw'\n",
    "PROCESSED_DIR = 'data/processed'\n",
    "os.makedirs(PROCESSED_DIR, exist_ok=True)\n",
    "\n",
    "def process_pdf(pdf_path):\n",
    "    pdf_name = os.path.basename(pdf_path).replace('.pdf', '')\n",
    "    output_dir = os.path.join(PROCESSED_DIR, pdf_name)\n",
    "    os.makedirs(output_dir, exist_ok=True)\n",
    "    \n",
    "    pages = convert_from_path(pdf_path)\n",
    "    \n",
    "    for i, page in enumerate(pages):\n",
    "        page_path = os.path.join(output_dir, f'page_{i}.png')\n",
    "        page.save(page_path)\n",
    "        \n",
    "    print(f\"Procesado {pdf_name}: {len(pages)} páginas\")\n",
    "\n",
    "# Procesar PDFs\n",
    "for pdf in os.listdir(RAW_DIR):\n",
    "    if pdf.endswith('.pdf'):\n",
    "        process_pdf(os.path.join(RAW_DIR, pdf))"
   ]
  }
 ],
 "metadata": {
  "kernelspec": {
   "display_name": ".venv",
   "language": "python",
   "name": "python3"
  },
  "language_info": {
   "codemirror_mode": {
    "name": "ipython",
    "version": 3
   },
   "file_extension": ".py",
   "mimetype": "text/x-python",
   "name": "python",
   "nbconvert_exporter": "python",
   "pygments_lexer": "ipython3",
   "version": "3.10.11"
  }
 },
 "nbformat": 4,
 "nbformat_minor": 2
}
